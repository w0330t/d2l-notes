{
 "cells": [
  {
   "cell_type": "code",
   "execution_count": 1,
   "metadata": {},
   "outputs": [],
   "source": [
    "import torch"
   ]
  },
  {
   "cell_type": "markdown",
   "metadata": {},
   "source": [
    "在运行反向传播函数之后，立即再次运行它，看看会发生什么。\n",
    "\n",
    "结局是报错"
   ]
  },
  {
   "cell_type": "code",
   "execution_count": 2,
   "metadata": {},
   "outputs": [],
   "source": [
    "'''\n",
    "Author: Blueness\n",
    "Date: 2022-11-20 12:57:05\n",
    "LastEditTime: 2022-11-20 23:43:45\n",
    "LastEditors: Blueness\n",
    "Description: \n",
    "FilePath: \\d2l-notes\\Lesson07\\7-homework.ipynb\n",
    "'''\n",
    "x = torch.tensor(2., requires_grad=True)\n",
    "y = x ** 2"
   ]
  },
  {
   "cell_type": "code",
   "execution_count": 3,
   "metadata": {},
   "outputs": [],
   "source": [
    "y.backward()\n",
    "# y.backward()"
   ]
  },
  {
   "cell_type": "markdown",
   "metadata": {},
   "source": [
    "重新设计一个求控制流梯度的例子，运行并分析结果。\n",
    "\n",
    "胡乱写了个，导数结果为inf(无限大)"
   ]
  },
  {
   "cell_type": "code",
   "execution_count": 4,
   "metadata": {},
   "outputs": [],
   "source": [
    "def f(x):\n",
    "    for i in range(10):\n",
    "        if x > 0:\n",
    "            x = x ** 2\n",
    "        else:\n",
    "            x = x ** -2\n",
    "        print(x)\n",
    "    return x"
   ]
  },
  {
   "cell_type": "code",
   "execution_count": 5,
   "metadata": {},
   "outputs": [],
   "source": [
    "x = torch.randn(size=(), requires_grad=True)"
   ]
  },
  {
   "cell_type": "code",
   "execution_count": 6,
   "metadata": {},
   "outputs": [
    {
     "name": "stdout",
     "output_type": "stream",
     "text": [
      "tensor(0.5211, grad_fn=<PowBackward0>)\n",
      "tensor(0.2715, grad_fn=<PowBackward0>)\n",
      "tensor(0.0737, grad_fn=<PowBackward0>)\n",
      "tensor(0.0054, grad_fn=<PowBackward0>)\n",
      "tensor(2.9542e-05, grad_fn=<PowBackward0>)\n",
      "tensor(8.7273e-10, grad_fn=<PowBackward0>)\n",
      "tensor(7.6165e-19, grad_fn=<PowBackward0>)\n",
      "tensor(5.8011e-37, grad_fn=<PowBackward0>)\n",
      "tensor(0., grad_fn=<PowBackward0>)\n",
      "tensor(inf, grad_fn=<PowBackward0>)\n"
     ]
    }
   ],
   "source": [
    "d = f(x)\n",
    "d.backward()"
   ]
  },
  {
   "cell_type": "code",
   "execution_count": 7,
   "metadata": {},
   "outputs": [
    {
     "data": {
      "text/plain": [
       "tensor(-inf)"
      ]
     },
     "execution_count": 7,
     "metadata": {},
     "output_type": "execute_result"
    }
   ],
   "source": [
    "x.grad"
   ]
  },
  {
   "cell_type": "markdown",
   "metadata": {},
   "source": [
    "使$f(x)=sin(x)$，绘制$f(x)$和$\\frac{d f(x)}{d x}$"
   ]
  },
  {
   "cell_type": "code",
   "execution_count": 8,
   "metadata": {},
   "outputs": [],
   "source": [
    "%matplotlib inline\n",
    "from matplotlib_inline import backend_inline\n",
    "from d2l import torch as d2l\n",
    "import math"
   ]
  },
  {
   "cell_type": "code",
   "execution_count": 9,
   "metadata": {},
   "outputs": [],
   "source": [
    "#@save\n",
    "def set_axes(axes, xlabel, ylabel, xlim, ylim, xscale, yscale, legend):\n",
    "    \"\"\"设置matplotlib的轴\"\"\"\n",
    "    axes.set_xlabel(xlabel)\n",
    "    axes.set_ylabel(ylabel)\n",
    "    axes.set_xscale(xscale)\n",
    "    axes.set_yscale(yscale)\n",
    "    axes.set_xlim(xlim)\n",
    "    axes.set_ylim(ylim)\n",
    "    if legend:\n",
    "        axes.legend(legend)\n",
    "    axes.grid()"
   ]
  },
  {
   "cell_type": "code",
   "execution_count": 10,
   "metadata": {},
   "outputs": [],
   "source": [
    "#@save\n",
    "def plot(\n",
    "    X,\n",
    "    Y=None,\n",
    "    xlabel=None,\n",
    "    ylabel=None,\n",
    "    legend=None, xlim=None,\n",
    "    ylim=None, xscale='linear', yscale='linear',\n",
    "    fmts=('-', 'm--', 'g-.', 'r:'), figsize=(10, 2.5), axes=None):\n",
    "\n",
    "    \"\"\"绘制数据点\"\"\"\n",
    "    if legend is None:\n",
    "        legend = []\n",
    "\n",
    "    axes = axes if axes else d2l.plt.gca()\n",
    "\n",
    "    \"\"\"使用svg格式在Jupyter中显示绘图\"\"\"\n",
    "    backend_inline.set_matplotlib_formats('svg')\n",
    "\n",
    "    \"\"\"设置matplotlib的图表大小\"\"\"\n",
    "    d2l.plt.rcParams['figure.figsize'] = figsize\n",
    "\n",
    "    # 如果X有一个轴，输出True\n",
    "    def has_one_axis(X):\n",
    "        return (hasattr(X, \"ndim\") and X.ndim == 1 or\n",
    "                isinstance(X, list) and not hasattr(X[0], \"__len__\"))\n",
    "\n",
    "    if has_one_axis(X):\n",
    "        X = [X]\n",
    "    if Y is None:\n",
    "        X, Y = [[]] * len(X), X\n",
    "    elif has_one_axis(Y):\n",
    "        Y = [Y]\n",
    "    if len(X) != len(Y):\n",
    "        X = X * len(Y)\n",
    "    axes.cla()\n",
    "    for x, y, fmt in zip(X, Y, fmts):\n",
    "        if len(x):\n",
    "            axes.plot(x, y, fmt)\n",
    "        else:\n",
    "            axes.plot(y, fmt)\n",
    "    set_axes(axes, xlabel, ylabel, xlim, ylim, xscale, yscale, legend)"
   ]
  },
  {
   "cell_type": "code",
   "execution_count": 21,
   "metadata": {},
   "outputs": [],
   "source": [
    "x = torch.arange(0, 5 * math.pi, 0.1, requires_grad=True)\n",
    "y = torch.sin(x)\n",
    "y.sum().backward()"
   ]
  },
  {
   "cell_type": "code",
   "execution_count": 22,
   "metadata": {},
   "outputs": [
    {
     "data": {
      "image/svg+xml": "<?xml version=\"1.0\" encoding=\"utf-8\" standalone=\"no\"?>\n<!DOCTYPE svg PUBLIC \"-//W3C//DTD SVG 1.1//EN\"\n  \"http://www.w3.org/Graphics/SVG/1.1/DTD/svg11.dtd\">\n<svg xmlns:xlink=\"http://www.w3.org/1999/xlink\" width=\"617.360937pt\" height=\"183.35625pt\" viewBox=\"0 0 617.360937 183.35625\" xmlns=\"http://www.w3.org/2000/svg\" version=\"1.1\">\n <metadata>\n  <rdf:RDF xmlns:dc=\"http://purl.org/dc/elements/1.1/\" xmlns:cc=\"http://creativecommons.org/ns#\" xmlns:rdf=\"http://www.w3.org/1999/02/22-rdf-syntax-ns#\">\n   <cc:Work>\n    <dc:type rdf:resource=\"http://purl.org/dc/dcmitype/StillImage\"/>\n    <dc:date>2022-11-20T15:19:04.853460</dc:date>\n    <dc:format>image/svg+xml</dc:format>\n    <dc:creator>\n     <cc:Agent>\n      <dc:title>Matplotlib v3.6.2, https://matplotlib.org/</dc:title>\n     </cc:Agent>\n    </dc:creator>\n   </cc:Work>\n  </rdf:RDF>\n </metadata>\n <defs>\n  <style type=\"text/css\">*{stroke-linejoin: round; stroke-linecap: butt}</style>\n </defs>\n <g id=\"figure_1\">\n  <g id=\"patch_1\">\n   <path d=\"M 0 183.35625 \nL 617.360937 183.35625 \nL 617.360937 0 \nL 0 0 \nz\n\" style=\"fill: #ffffff\"/>\n  </g>\n  <g id=\"axes_1\">\n   <g id=\"patch_2\">\n    <path d=\"M 52.160938 145.8 \nL 610.160938 145.8 \nL 610.160938 7.2 \nL 52.160938 7.2 \nz\n\" style=\"fill: #ffffff\"/>\n   </g>\n   <g id=\"matplotlib.axis_1\">\n    <g id=\"xtick_1\">\n     <g id=\"line2d_1\">\n      <path d=\"M 77.524574 145.8 \nL 77.524574 7.2 \n\" clip-path=\"url(#pa7c39c2cfd)\" style=\"fill: none; stroke: #b0b0b0; stroke-width: 0.8; stroke-linecap: square\"/>\n     </g>\n     <g id=\"line2d_2\">\n      <defs>\n       <path id=\"m797a07eaff\" d=\"M 0 0 \nL 0 3.5 \n\" style=\"stroke: #000000; stroke-width: 0.8\"/>\n      </defs>\n      <g>\n       <use xlink:href=\"#m797a07eaff\" x=\"77.524574\" y=\"145.8\" style=\"stroke: #000000; stroke-width: 0.8\"/>\n      </g>\n     </g>\n     <g id=\"text_1\">\n      <!-- 0 -->\n      <g transform=\"translate(74.343324 160.398438) scale(0.1 -0.1)\">\n       <defs>\n        <path id=\"DejaVuSans-30\" d=\"M 2034 4250 \nQ 1547 4250 1301 3770 \nQ 1056 3291 1056 2328 \nQ 1056 1369 1301 889 \nQ 1547 409 2034 409 \nQ 2525 409 2770 889 \nQ 3016 1369 3016 2328 \nQ 3016 3291 2770 3770 \nQ 2525 4250 2034 4250 \nz\nM 2034 4750 \nQ 2819 4750 3233 4129 \nQ 3647 3509 3647 2328 \nQ 3647 1150 3233 529 \nQ 2819 -91 2034 -91 \nQ 1250 -91 836 529 \nQ 422 1150 422 2328 \nQ 422 3509 836 4129 \nQ 1250 4750 2034 4750 \nz\n\" transform=\"scale(0.015625)\"/>\n       </defs>\n       <use xlink:href=\"#DejaVuSans-30\"/>\n      </g>\n     </g>\n    </g>\n    <g id=\"xtick_2\">\n     <g id=\"line2d_3\">\n      <path d=\"M 142.145304 145.8 \nL 142.145304 7.2 \n\" clip-path=\"url(#pa7c39c2cfd)\" style=\"fill: none; stroke: #b0b0b0; stroke-width: 0.8; stroke-linecap: square\"/>\n     </g>\n     <g id=\"line2d_4\">\n      <g>\n       <use xlink:href=\"#m797a07eaff\" x=\"142.145304\" y=\"145.8\" style=\"stroke: #000000; stroke-width: 0.8\"/>\n      </g>\n     </g>\n     <g id=\"text_2\">\n      <!-- 2 -->\n      <g transform=\"translate(138.964054 160.398438) scale(0.1 -0.1)\">\n       <defs>\n        <path id=\"DejaVuSans-32\" d=\"M 1228 531 \nL 3431 531 \nL 3431 0 \nL 469 0 \nL 469 531 \nQ 828 903 1448 1529 \nQ 2069 2156 2228 2338 \nQ 2531 2678 2651 2914 \nQ 2772 3150 2772 3378 \nQ 2772 3750 2511 3984 \nQ 2250 4219 1831 4219 \nQ 1534 4219 1204 4116 \nQ 875 4013 500 3803 \nL 500 4441 \nQ 881 4594 1212 4672 \nQ 1544 4750 1819 4750 \nQ 2544 4750 2975 4387 \nQ 3406 4025 3406 3419 \nQ 3406 3131 3298 2873 \nQ 3191 2616 2906 2266 \nQ 2828 2175 2409 1742 \nQ 1991 1309 1228 531 \nz\n\" transform=\"scale(0.015625)\"/>\n       </defs>\n       <use xlink:href=\"#DejaVuSans-32\"/>\n      </g>\n     </g>\n    </g>\n    <g id=\"xtick_3\">\n     <g id=\"line2d_5\">\n      <path d=\"M 206.766035 145.8 \nL 206.766035 7.2 \n\" clip-path=\"url(#pa7c39c2cfd)\" style=\"fill: none; stroke: #b0b0b0; stroke-width: 0.8; stroke-linecap: square\"/>\n     </g>\n     <g id=\"line2d_6\">\n      <g>\n       <use xlink:href=\"#m797a07eaff\" x=\"206.766035\" y=\"145.8\" style=\"stroke: #000000; stroke-width: 0.8\"/>\n      </g>\n     </g>\n     <g id=\"text_3\">\n      <!-- 4 -->\n      <g transform=\"translate(203.584785 160.398438) scale(0.1 -0.1)\">\n       <defs>\n        <path id=\"DejaVuSans-34\" d=\"M 2419 4116 \nL 825 1625 \nL 2419 1625 \nL 2419 4116 \nz\nM 2253 4666 \nL 3047 4666 \nL 3047 1625 \nL 3713 1625 \nL 3713 1100 \nL 3047 1100 \nL 3047 0 \nL 2419 0 \nL 2419 1100 \nL 313 1100 \nL 313 1709 \nL 2253 4666 \nz\n\" transform=\"scale(0.015625)\"/>\n       </defs>\n       <use xlink:href=\"#DejaVuSans-34\"/>\n      </g>\n     </g>\n    </g>\n    <g id=\"xtick_4\">\n     <g id=\"line2d_7\">\n      <path d=\"M 271.386765 145.8 \nL 271.386765 7.2 \n\" clip-path=\"url(#pa7c39c2cfd)\" style=\"fill: none; stroke: #b0b0b0; stroke-width: 0.8; stroke-linecap: square\"/>\n     </g>\n     <g id=\"line2d_8\">\n      <g>\n       <use xlink:href=\"#m797a07eaff\" x=\"271.386765\" y=\"145.8\" style=\"stroke: #000000; stroke-width: 0.8\"/>\n      </g>\n     </g>\n     <g id=\"text_4\">\n      <!-- 6 -->\n      <g transform=\"translate(268.205515 160.398438) scale(0.1 -0.1)\">\n       <defs>\n        <path id=\"DejaVuSans-36\" d=\"M 2113 2584 \nQ 1688 2584 1439 2293 \nQ 1191 2003 1191 1497 \nQ 1191 994 1439 701 \nQ 1688 409 2113 409 \nQ 2538 409 2786 701 \nQ 3034 994 3034 1497 \nQ 3034 2003 2786 2293 \nQ 2538 2584 2113 2584 \nz\nM 3366 4563 \nL 3366 3988 \nQ 3128 4100 2886 4159 \nQ 2644 4219 2406 4219 \nQ 1781 4219 1451 3797 \nQ 1122 3375 1075 2522 \nQ 1259 2794 1537 2939 \nQ 1816 3084 2150 3084 \nQ 2853 3084 3261 2657 \nQ 3669 2231 3669 1497 \nQ 3669 778 3244 343 \nQ 2819 -91 2113 -91 \nQ 1303 -91 875 529 \nQ 447 1150 447 2328 \nQ 447 3434 972 4092 \nQ 1497 4750 2381 4750 \nQ 2619 4750 2861 4703 \nQ 3103 4656 3366 4563 \nz\n\" transform=\"scale(0.015625)\"/>\n       </defs>\n       <use xlink:href=\"#DejaVuSans-36\"/>\n      </g>\n     </g>\n    </g>\n    <g id=\"xtick_5\">\n     <g id=\"line2d_9\">\n      <path d=\"M 336.007495 145.8 \nL 336.007495 7.2 \n\" clip-path=\"url(#pa7c39c2cfd)\" style=\"fill: none; stroke: #b0b0b0; stroke-width: 0.8; stroke-linecap: square\"/>\n     </g>\n     <g id=\"line2d_10\">\n      <g>\n       <use xlink:href=\"#m797a07eaff\" x=\"336.007495\" y=\"145.8\" style=\"stroke: #000000; stroke-width: 0.8\"/>\n      </g>\n     </g>\n     <g id=\"text_5\">\n      <!-- 8 -->\n      <g transform=\"translate(332.826245 160.398438) scale(0.1 -0.1)\">\n       <defs>\n        <path id=\"DejaVuSans-38\" d=\"M 2034 2216 \nQ 1584 2216 1326 1975 \nQ 1069 1734 1069 1313 \nQ 1069 891 1326 650 \nQ 1584 409 2034 409 \nQ 2484 409 2743 651 \nQ 3003 894 3003 1313 \nQ 3003 1734 2745 1975 \nQ 2488 2216 2034 2216 \nz\nM 1403 2484 \nQ 997 2584 770 2862 \nQ 544 3141 544 3541 \nQ 544 4100 942 4425 \nQ 1341 4750 2034 4750 \nQ 2731 4750 3128 4425 \nQ 3525 4100 3525 3541 \nQ 3525 3141 3298 2862 \nQ 3072 2584 2669 2484 \nQ 3125 2378 3379 2068 \nQ 3634 1759 3634 1313 \nQ 3634 634 3220 271 \nQ 2806 -91 2034 -91 \nQ 1263 -91 848 271 \nQ 434 634 434 1313 \nQ 434 1759 690 2068 \nQ 947 2378 1403 2484 \nz\nM 1172 3481 \nQ 1172 3119 1398 2916 \nQ 1625 2713 2034 2713 \nQ 2441 2713 2670 2916 \nQ 2900 3119 2900 3481 \nQ 2900 3844 2670 4047 \nQ 2441 4250 2034 4250 \nQ 1625 4250 1398 4047 \nQ 1172 3844 1172 3481 \nz\n\" transform=\"scale(0.015625)\"/>\n       </defs>\n       <use xlink:href=\"#DejaVuSans-38\"/>\n      </g>\n     </g>\n    </g>\n    <g id=\"xtick_6\">\n     <g id=\"line2d_11\">\n      <path d=\"M 400.628226 145.8 \nL 400.628226 7.2 \n\" clip-path=\"url(#pa7c39c2cfd)\" style=\"fill: none; stroke: #b0b0b0; stroke-width: 0.8; stroke-linecap: square\"/>\n     </g>\n     <g id=\"line2d_12\">\n      <g>\n       <use xlink:href=\"#m797a07eaff\" x=\"400.628226\" y=\"145.8\" style=\"stroke: #000000; stroke-width: 0.8\"/>\n      </g>\n     </g>\n     <g id=\"text_6\">\n      <!-- 10 -->\n      <g transform=\"translate(394.265726 160.398438) scale(0.1 -0.1)\">\n       <defs>\n        <path id=\"DejaVuSans-31\" d=\"M 794 531 \nL 1825 531 \nL 1825 4091 \nL 703 3866 \nL 703 4441 \nL 1819 4666 \nL 2450 4666 \nL 2450 531 \nL 3481 531 \nL 3481 0 \nL 794 0 \nL 794 531 \nz\n\" transform=\"scale(0.015625)\"/>\n       </defs>\n       <use xlink:href=\"#DejaVuSans-31\"/>\n       <use xlink:href=\"#DejaVuSans-30\" x=\"63.623047\"/>\n      </g>\n     </g>\n    </g>\n    <g id=\"xtick_7\">\n     <g id=\"line2d_13\">\n      <path d=\"M 465.248956 145.8 \nL 465.248956 7.2 \n\" clip-path=\"url(#pa7c39c2cfd)\" style=\"fill: none; stroke: #b0b0b0; stroke-width: 0.8; stroke-linecap: square\"/>\n     </g>\n     <g id=\"line2d_14\">\n      <g>\n       <use xlink:href=\"#m797a07eaff\" x=\"465.248956\" y=\"145.8\" style=\"stroke: #000000; stroke-width: 0.8\"/>\n      </g>\n     </g>\n     <g id=\"text_7\">\n      <!-- 12 -->\n      <g transform=\"translate(458.886456 160.398438) scale(0.1 -0.1)\">\n       <use xlink:href=\"#DejaVuSans-31\"/>\n       <use xlink:href=\"#DejaVuSans-32\" x=\"63.623047\"/>\n      </g>\n     </g>\n    </g>\n    <g id=\"xtick_8\">\n     <g id=\"line2d_15\">\n      <path d=\"M 529.869686 145.8 \nL 529.869686 7.2 \n\" clip-path=\"url(#pa7c39c2cfd)\" style=\"fill: none; stroke: #b0b0b0; stroke-width: 0.8; stroke-linecap: square\"/>\n     </g>\n     <g id=\"line2d_16\">\n      <g>\n       <use xlink:href=\"#m797a07eaff\" x=\"529.869686\" y=\"145.8\" style=\"stroke: #000000; stroke-width: 0.8\"/>\n      </g>\n     </g>\n     <g id=\"text_8\">\n      <!-- 14 -->\n      <g transform=\"translate(523.507186 160.398438) scale(0.1 -0.1)\">\n       <use xlink:href=\"#DejaVuSans-31\"/>\n       <use xlink:href=\"#DejaVuSans-34\" x=\"63.623047\"/>\n      </g>\n     </g>\n    </g>\n    <g id=\"xtick_9\">\n     <g id=\"line2d_17\">\n      <path d=\"M 594.490417 145.8 \nL 594.490417 7.2 \n\" clip-path=\"url(#pa7c39c2cfd)\" style=\"fill: none; stroke: #b0b0b0; stroke-width: 0.8; stroke-linecap: square\"/>\n     </g>\n     <g id=\"line2d_18\">\n      <g>\n       <use xlink:href=\"#m797a07eaff\" x=\"594.490417\" y=\"145.8\" style=\"stroke: #000000; stroke-width: 0.8\"/>\n      </g>\n     </g>\n     <g id=\"text_9\">\n      <!-- 16 -->\n      <g transform=\"translate(588.127917 160.398438) scale(0.1 -0.1)\">\n       <use xlink:href=\"#DejaVuSans-31\"/>\n       <use xlink:href=\"#DejaVuSans-36\" x=\"63.623047\"/>\n      </g>\n     </g>\n    </g>\n    <g id=\"text_10\">\n     <!-- x -->\n     <g transform=\"translate(328.201562 174.076563) scale(0.1 -0.1)\">\n      <defs>\n       <path id=\"DejaVuSans-78\" d=\"M 3513 3500 \nL 2247 1797 \nL 3578 0 \nL 2900 0 \nL 1881 1375 \nL 863 0 \nL 184 0 \nL 1544 1831 \nL 300 3500 \nL 978 3500 \nL 1906 2253 \nL 2834 3500 \nL 3513 3500 \nz\n\" transform=\"scale(0.015625)\"/>\n      </defs>\n      <use xlink:href=\"#DejaVuSans-78\"/>\n     </g>\n    </g>\n   </g>\n   <g id=\"matplotlib.axis_2\">\n    <g id=\"ytick_1\">\n     <g id=\"line2d_19\">\n      <path d=\"M 52.160938 139.500616 \nL 610.160938 139.500616 \n\" clip-path=\"url(#pa7c39c2cfd)\" style=\"fill: none; stroke: #b0b0b0; stroke-width: 0.8; stroke-linecap: square\"/>\n     </g>\n     <g id=\"line2d_20\">\n      <defs>\n       <path id=\"mbd50450c0e\" d=\"M 0 0 \nL -3.5 0 \n\" style=\"stroke: #000000; stroke-width: 0.8\"/>\n      </defs>\n      <g>\n       <use xlink:href=\"#mbd50450c0e\" x=\"52.160938\" y=\"139.500616\" style=\"stroke: #000000; stroke-width: 0.8\"/>\n      </g>\n     </g>\n     <g id=\"text_11\">\n      <!-- −1.0 -->\n      <g transform=\"translate(20.878125 143.299835) scale(0.1 -0.1)\">\n       <defs>\n        <path id=\"DejaVuSans-2212\" d=\"M 678 2272 \nL 4684 2272 \nL 4684 1741 \nL 678 1741 \nL 678 2272 \nz\n\" transform=\"scale(0.015625)\"/>\n        <path id=\"DejaVuSans-2e\" d=\"M 684 794 \nL 1344 794 \nL 1344 0 \nL 684 0 \nL 684 794 \nz\n\" transform=\"scale(0.015625)\"/>\n       </defs>\n       <use xlink:href=\"#DejaVuSans-2212\"/>\n       <use xlink:href=\"#DejaVuSans-31\" x=\"83.789062\"/>\n       <use xlink:href=\"#DejaVuSans-2e\" x=\"147.412109\"/>\n       <use xlink:href=\"#DejaVuSans-30\" x=\"179.199219\"/>\n      </g>\n     </g>\n    </g>\n    <g id=\"ytick_2\">\n     <g id=\"line2d_21\">\n      <path d=\"M 52.160938 108.000462 \nL 610.160938 108.000462 \n\" clip-path=\"url(#pa7c39c2cfd)\" style=\"fill: none; stroke: #b0b0b0; stroke-width: 0.8; stroke-linecap: square\"/>\n     </g>\n     <g id=\"line2d_22\">\n      <g>\n       <use xlink:href=\"#mbd50450c0e\" x=\"52.160938\" y=\"108.000462\" style=\"stroke: #000000; stroke-width: 0.8\"/>\n      </g>\n     </g>\n     <g id=\"text_12\">\n      <!-- −0.5 -->\n      <g transform=\"translate(20.878125 111.799681) scale(0.1 -0.1)\">\n       <defs>\n        <path id=\"DejaVuSans-35\" d=\"M 691 4666 \nL 3169 4666 \nL 3169 4134 \nL 1269 4134 \nL 1269 2991 \nQ 1406 3038 1543 3061 \nQ 1681 3084 1819 3084 \nQ 2600 3084 3056 2656 \nQ 3513 2228 3513 1497 \nQ 3513 744 3044 326 \nQ 2575 -91 1722 -91 \nQ 1428 -91 1123 -41 \nQ 819 9 494 109 \nL 494 744 \nQ 775 591 1075 516 \nQ 1375 441 1709 441 \nQ 2250 441 2565 725 \nQ 2881 1009 2881 1497 \nQ 2881 1984 2565 2268 \nQ 2250 2553 1709 2553 \nQ 1456 2553 1204 2497 \nQ 953 2441 691 2322 \nL 691 4666 \nz\n\" transform=\"scale(0.015625)\"/>\n       </defs>\n       <use xlink:href=\"#DejaVuSans-2212\"/>\n       <use xlink:href=\"#DejaVuSans-30\" x=\"83.789062\"/>\n       <use xlink:href=\"#DejaVuSans-2e\" x=\"147.412109\"/>\n       <use xlink:href=\"#DejaVuSans-35\" x=\"179.199219\"/>\n      </g>\n     </g>\n    </g>\n    <g id=\"ytick_3\">\n     <g id=\"line2d_23\">\n      <path d=\"M 52.160938 76.500308 \nL 610.160938 76.500308 \n\" clip-path=\"url(#pa7c39c2cfd)\" style=\"fill: none; stroke: #b0b0b0; stroke-width: 0.8; stroke-linecap: square\"/>\n     </g>\n     <g id=\"line2d_24\">\n      <g>\n       <use xlink:href=\"#mbd50450c0e\" x=\"52.160938\" y=\"76.500308\" style=\"stroke: #000000; stroke-width: 0.8\"/>\n      </g>\n     </g>\n     <g id=\"text_13\">\n      <!-- 0.0 -->\n      <g transform=\"translate(29.257813 80.299527) scale(0.1 -0.1)\">\n       <use xlink:href=\"#DejaVuSans-30\"/>\n       <use xlink:href=\"#DejaVuSans-2e\" x=\"63.623047\"/>\n       <use xlink:href=\"#DejaVuSans-30\" x=\"95.410156\"/>\n      </g>\n     </g>\n    </g>\n    <g id=\"ytick_4\">\n     <g id=\"line2d_25\">\n      <path d=\"M 52.160938 45.000154 \nL 610.160938 45.000154 \n\" clip-path=\"url(#pa7c39c2cfd)\" style=\"fill: none; stroke: #b0b0b0; stroke-width: 0.8; stroke-linecap: square\"/>\n     </g>\n     <g id=\"line2d_26\">\n      <g>\n       <use xlink:href=\"#mbd50450c0e\" x=\"52.160938\" y=\"45.000154\" style=\"stroke: #000000; stroke-width: 0.8\"/>\n      </g>\n     </g>\n     <g id=\"text_14\">\n      <!-- 0.5 -->\n      <g transform=\"translate(29.257813 48.799373) scale(0.1 -0.1)\">\n       <use xlink:href=\"#DejaVuSans-30\"/>\n       <use xlink:href=\"#DejaVuSans-2e\" x=\"63.623047\"/>\n       <use xlink:href=\"#DejaVuSans-35\" x=\"95.410156\"/>\n      </g>\n     </g>\n    </g>\n    <g id=\"ytick_5\">\n     <g id=\"line2d_27\">\n      <path d=\"M 52.160938 13.5 \nL 610.160938 13.5 \n\" clip-path=\"url(#pa7c39c2cfd)\" style=\"fill: none; stroke: #b0b0b0; stroke-width: 0.8; stroke-linecap: square\"/>\n     </g>\n     <g id=\"line2d_28\">\n      <g>\n       <use xlink:href=\"#mbd50450c0e\" x=\"52.160938\" y=\"13.5\" style=\"stroke: #000000; stroke-width: 0.8\"/>\n      </g>\n     </g>\n     <g id=\"text_15\">\n      <!-- 1.0 -->\n      <g transform=\"translate(29.257813 17.299219) scale(0.1 -0.1)\">\n       <use xlink:href=\"#DejaVuSans-31\"/>\n       <use xlink:href=\"#DejaVuSans-2e\" x=\"63.623047\"/>\n       <use xlink:href=\"#DejaVuSans-30\" x=\"95.410156\"/>\n      </g>\n     </g>\n    </g>\n    <g id=\"text_16\">\n     <!-- f(x) -->\n     <g transform=\"translate(14.798438 85.121094) rotate(-90) scale(0.1 -0.1)\">\n      <defs>\n       <path id=\"DejaVuSans-66\" d=\"M 2375 4863 \nL 2375 4384 \nL 1825 4384 \nQ 1516 4384 1395 4259 \nQ 1275 4134 1275 3809 \nL 1275 3500 \nL 2222 3500 \nL 2222 3053 \nL 1275 3053 \nL 1275 0 \nL 697 0 \nL 697 3053 \nL 147 3053 \nL 147 3500 \nL 697 3500 \nL 697 3744 \nQ 697 4328 969 4595 \nQ 1241 4863 1831 4863 \nL 2375 4863 \nz\n\" transform=\"scale(0.015625)\"/>\n       <path id=\"DejaVuSans-28\" d=\"M 1984 4856 \nQ 1566 4138 1362 3434 \nQ 1159 2731 1159 2009 \nQ 1159 1288 1364 580 \nQ 1569 -128 1984 -844 \nL 1484 -844 \nQ 1016 -109 783 600 \nQ 550 1309 550 2009 \nQ 550 2706 781 3412 \nQ 1013 4119 1484 4856 \nL 1984 4856 \nz\n\" transform=\"scale(0.015625)\"/>\n       <path id=\"DejaVuSans-29\" d=\"M 513 4856 \nL 1013 4856 \nQ 1481 4119 1714 3412 \nQ 1947 2706 1947 2009 \nQ 1947 1309 1714 600 \nQ 1481 -109 1013 -844 \nL 513 -844 \nQ 928 -128 1133 580 \nQ 1338 1288 1338 2009 \nQ 1338 2731 1133 3434 \nQ 928 4138 513 4856 \nz\n\" transform=\"scale(0.015625)\"/>\n      </defs>\n      <use xlink:href=\"#DejaVuSans-66\"/>\n      <use xlink:href=\"#DejaVuSans-28\" x=\"35.205078\"/>\n      <use xlink:href=\"#DejaVuSans-78\" x=\"74.21875\"/>\n      <use xlink:href=\"#DejaVuSans-29\" x=\"133.398438\"/>\n     </g>\n    </g>\n   </g>\n   <g id=\"line2d_29\">\n    <path d=\"M 77.524574 76.500308 \nL 83.986647 63.984079 \nL 90.44872 51.966831 \nL 93.679756 46.296351 \nL 96.910794 40.927657 \nL 100.141829 35.914396 \nL 103.372866 31.306654 \nL 106.603904 27.150471 \nL 109.834939 23.487379 \nL 113.065976 20.353967 \nL 116.297014 17.781559 \nL 119.528047 15.795845 \nL 122.759084 14.416671 \nL 125.990122 13.657816 \nL 129.221159 13.526864 \nL 132.452196 14.025118 \nL 135.683234 15.147608 \nL 138.914267 16.883111 \nL 142.145304 19.214291 \nL 145.376338 22.117848 \nL 148.607379 25.564789 \nL 151.838412 29.520648 \nL 155.069453 33.945926 \nL 158.300487 38.79638 \nL 161.531528 44.02357 \nL 164.762561 49.575246 \nL 171.224636 61.427532 \nL 180.917744 80.1779 \nL 187.379819 92.599483 \nL 193.841893 104.379241 \nL 197.072927 109.88015 \nL 200.30396 115.04754 \nL 203.535001 119.829794 \nL 206.766035 124.179098 \nL 209.997068 128.052015 \nL 213.228101 131.409842 \nL 216.45915 134.219048 \nL 219.690184 136.451533 \nL 222.921217 138.085007 \nL 226.152251 139.103145 \nL 229.383284 139.495779 \nL 232.614333 139.258982 \nL 235.845366 138.395122 \nL 239.0764 136.912834 \nL 242.307449 134.826911 \nL 245.538482 132.158214 \nL 248.769516 128.933407 \nL 252.000549 125.184706 \nL 255.231582 120.949564 \nL 258.462616 116.270305 \nL 261.693649 111.193677 \nL 264.924683 105.770405 \nL 268.155732 100.054647 \nL 274.617798 87.976608 \nL 290.772981 56.873111 \nL 294.00403 50.994622 \nL 297.235063 45.371005 \nL 300.466097 40.05842 \nL 303.69713 35.10995 \nL 306.928164 30.575038 \nL 310.159197 26.498996 \nL 313.39023 22.92255 \nL 316.621264 19.881432 \nL 319.852313 17.406021 \nL 323.083346 15.521072 \nL 326.31438 14.245408 \nL 329.545413 13.591771 \nL 332.776447 13.566695 \nL 336.007495 14.170434 \nL 339.238544 15.396958 \nL 342.469562 17.233988 \nL 345.700611 19.663211 \nL 348.931629 22.6603 \nL 352.162678 26.195373 \nL 355.393727 30.233082 \nL 358.624745 34.733035 \nL 361.855794 39.650352 \nL 365.086843 44.93587 \nL 368.317861 50.536716 \nL 374.779927 62.458163 \nL 394.166159 99.588617 \nL 397.397208 105.325242 \nL 400.628226 110.773807 \nL 403.859275 115.879969 \nL 407.090323 120.592663 \nL 410.321341 124.864759 \nL 413.552359 128.653617 \nL 416.783408 131.921413 \nL 420.014426 134.63543 \nL 423.245475 136.768604 \nL 426.476493 138.299585 \nL 429.707542 139.213095 \nL 432.938591 139.5 \nL 436.169609 139.157432 \nL 439.400658 138.188809 \nL 442.631707 136.603811 \nL 445.862725 134.418298 \nL 449.093774 131.654064 \nL 452.324792 128.338781 \nL 455.55584 124.505515 \nL 458.786889 120.192594 \nL 462.017907 115.443156 \nL 465.248956 110.304568 \nL 468.480005 104.828215 \nL 474.942072 93.08398 \nL 481.404139 80.678608 \nL 491.097254 61.915106 \nL 497.559321 50.029656 \nL 500.79037 44.454457 \nL 504.021388 39.199503 \nL 507.252437 34.317197 \nL 510.483486 29.856373 \nL 513.714504 25.861641 \nL 516.945553 22.372835 \nL 520.176602 19.424859 \nL 523.40762 17.047187 \nL 526.638668 15.263528 \nL 529.869686 14.091738 \nL 533.100735 13.543507 \nL 536.331784 13.624324 \nL 539.562802 14.333372 \nL 542.79382 15.663564 \nL 546.024869 17.601633 \nL 549.255918 20.128199 \nL 552.486936 23.217991 \nL 555.717985 26.840193 \nL 558.949003 30.958544 \nL 562.180052 35.531972 \nL 565.411101 40.514749 \nL 568.642119 45.857031 \nL 571.873167 51.50554 \nL 578.335234 63.492793 \nL 584.797301 75.998613 \nL 584.797301 75.998613 \n\" clip-path=\"url(#pa7c39c2cfd)\" style=\"fill: none; stroke: #1f77b4; stroke-width: 1.5; stroke-linecap: square\"/>\n   </g>\n   <g id=\"line2d_30\">\n    <path d=\"M 77.524574 13.5 \nL 80.75561 13.814738 \nL 83.986647 14.75581 \nL 87.217684 16.313814 \nL 90.44872 18.473183 \nL 93.679756 21.212337 \nL 96.910794 24.50391 \nL 100.141829 28.315013 \nL 103.372866 32.607571 \nL 106.603904 37.338691 \nL 109.834939 42.461094 \nL 113.065976 47.923613 \nL 116.297014 53.671661 \nL 122.759084 65.792325 \nL 138.914267 96.867649 \nL 142.145304 102.717687 \nL 145.376338 108.305764 \nL 148.607379 113.576062 \nL 151.838412 118.4759 \nL 155.069453 122.956344 \nL 158.300487 126.972601 \nL 161.531528 130.484568 \nL 164.762561 133.457133 \nL 167.993603 135.86061 \nL 171.224636 137.670972 \nL 174.455669 138.87014 \nL 177.686711 139.446129 \nL 180.917744 139.393186 \nL 184.148777 138.71184 \nL 187.379819 137.408891 \nL 190.610852 135.497367 \nL 193.841893 132.996362 \nL 197.072927 129.930869 \nL 200.30396 126.331521 \nL 203.535001 122.234263 \nL 206.766035 117.680056 \nL 209.997068 112.714399 \nL 213.228101 107.386901 \nL 216.45915 101.750769 \nL 222.921217 89.780509 \nL 242.307449 52.687572 \nL 245.538482 46.983598 \nL 248.769516 41.574543 \nL 252.000549 36.514456 \nL 255.231582 31.853893 \nL 258.462616 27.639424 \nL 261.693649 23.913152 \nL 264.924683 20.712314 \nL 268.155732 18.068877 \nL 271.386765 16.009285 \nL 274.617798 14.554093 \nL 277.848832 13.717849 \nL 281.079865 13.508907 \nL 284.310914 13.929352 \nL 287.541948 14.974985 \nL 290.772981 16.63536 \nL 294.00403 18.893894 \nL 297.235063 21.728004 \nL 300.466097 25.10938 \nL 303.69713 29.004234 \nL 306.928164 33.373654 \nL 310.159197 38.173978 \nL 313.39023 43.357248 \nL 316.621264 48.87167 \nL 323.083346 60.670855 \nL 332.776447 79.398432 \nL 339.238544 91.843688 \nL 345.700611 103.677193 \nL 348.931629 109.215631 \nL 352.162678 114.427244 \nL 355.393727 119.259899 \nL 358.624745 123.665268 \nL 361.855794 127.599422 \nL 365.086843 131.02301 \nL 368.317861 133.901794 \nL 371.548909 136.207068 \nL 374.779927 137.915752 \nL 378.010976 139.01081 \nL 381.242025 139.481277 \nL 384.473043 139.322462 \nL 387.704092 138.535943 \nL 390.935141 137.129579 \nL 394.166159 135.117444 \nL 397.397208 132.519609 \nL 400.628226 129.362072 \nL 403.859275 125.676329 \nL 407.090323 121.49923 \nL 410.321341 116.872561 \nL 413.552359 111.842507 \nL 416.783408 106.459282 \nL 420.014426 100.776766 \nL 426.476493 88.743199 \nL 442.631707 57.616247 \nL 445.862725 51.710284 \nL 449.093774 46.051959 \nL 452.324792 40.697916 \nL 455.55584 35.701549 \nL 458.786889 31.112834 \nL 462.017907 26.977653 \nL 465.248956 23.337249 \nL 468.480005 20.228036 \nL 471.711023 17.681106 \nL 474.942072 15.721854 \nL 478.17309 14.369894 \nL 481.404139 13.63871 \nL 484.635188 13.535621 \nL 487.866206 14.061656 \nL 491.097254 15.211561 \nL 494.328303 16.973846 \nL 497.559321 19.33088 \nL 500.79037 22.259157 \nL 504.021388 25.729364 \nL 507.252437 29.70689 \nL 510.483486 34.151965 \nL 513.714504 39.020125 \nL 516.945553 44.262819 \nL 520.176602 49.827625 \nL 526.638668 61.698432 \nL 536.331784 80.456254 \nL 542.79382 92.868857 \nL 549.255918 104.629014 \nL 552.486936 110.116279 \nL 555.717985 115.267713 \nL 558.949003 120.031751 \nL 562.180052 124.36088 \nL 565.411101 128.211798 \nL 568.642119 131.545999 \nL 571.873167 134.330234 \nL 575.104185 136.536628 \nL 578.335234 138.143177 \nL 581.566283 139.133805 \nL 584.797301 139.498618 \nL 584.797301 139.498618 \n\" clip-path=\"url(#pa7c39c2cfd)\" style=\"fill: none; stroke-dasharray: 5.55,2.4; stroke-dashoffset: 0; stroke: #bf00bf; stroke-width: 1.5\"/>\n   </g>\n   <g id=\"patch_3\">\n    <path d=\"M 52.160938 145.8 \nL 52.160938 7.2 \n\" style=\"fill: none; stroke: #000000; stroke-width: 0.8; stroke-linejoin: miter; stroke-linecap: square\"/>\n   </g>\n   <g id=\"patch_4\">\n    <path d=\"M 610.160938 145.8 \nL 610.160938 7.2 \n\" style=\"fill: none; stroke: #000000; stroke-width: 0.8; stroke-linejoin: miter; stroke-linecap: square\"/>\n   </g>\n   <g id=\"patch_5\">\n    <path d=\"M 52.160938 145.8 \nL 610.160938 145.8 \n\" style=\"fill: none; stroke: #000000; stroke-width: 0.8; stroke-linejoin: miter; stroke-linecap: square\"/>\n   </g>\n   <g id=\"patch_6\">\n    <path d=\"M 52.160938 7.2 \nL 610.160938 7.2 \n\" style=\"fill: none; stroke: #000000; stroke-width: 0.8; stroke-linejoin: miter; stroke-linecap: square\"/>\n   </g>\n   <g id=\"legend_1\">\n    <g id=\"patch_7\">\n     <path d=\"M 59.160938 140.8 \nL 123.19375 140.8 \nQ 125.19375 140.8 125.19375 138.8 \nL 125.19375 110.44375 \nQ 125.19375 108.44375 123.19375 108.44375 \nL 59.160938 108.44375 \nQ 57.160938 108.44375 57.160938 110.44375 \nL 57.160938 138.8 \nQ 57.160938 140.8 59.160938 140.8 \nz\n\" style=\"fill: #ffffff; opacity: 0.8; stroke: #cccccc; stroke-linejoin: miter\"/>\n    </g>\n    <g id=\"line2d_31\">\n     <path d=\"M 61.160938 116.542188 \nL 71.160938 116.542188 \nL 81.160938 116.542188 \n\" style=\"fill: none; stroke: #1f77b4; stroke-width: 1.5; stroke-linecap: square\"/>\n    </g>\n    <g id=\"text_17\">\n     <!-- f(x) -->\n     <g transform=\"translate(89.160938 120.042188) scale(0.1 -0.1)\">\n      <use xlink:href=\"#DejaVuSans-66\"/>\n      <use xlink:href=\"#DejaVuSans-28\" x=\"35.205078\"/>\n      <use xlink:href=\"#DejaVuSans-78\" x=\"74.21875\"/>\n      <use xlink:href=\"#DejaVuSans-29\" x=\"133.398438\"/>\n     </g>\n    </g>\n    <g id=\"line2d_32\">\n     <path d=\"M 61.160938 131.220313 \nL 71.160938 131.220313 \nL 81.160938 131.220313 \n\" style=\"fill: none; stroke-dasharray: 5.55,2.4; stroke-dashoffset: 0; stroke: #bf00bf; stroke-width: 1.5\"/>\n    </g>\n    <g id=\"text_18\">\n     <!-- x.grad -->\n     <g transform=\"translate(89.160938 134.720313) scale(0.1 -0.1)\">\n      <defs>\n       <path id=\"DejaVuSans-67\" d=\"M 2906 1791 \nQ 2906 2416 2648 2759 \nQ 2391 3103 1925 3103 \nQ 1463 3103 1205 2759 \nQ 947 2416 947 1791 \nQ 947 1169 1205 825 \nQ 1463 481 1925 481 \nQ 2391 481 2648 825 \nQ 2906 1169 2906 1791 \nz\nM 3481 434 \nQ 3481 -459 3084 -895 \nQ 2688 -1331 1869 -1331 \nQ 1566 -1331 1297 -1286 \nQ 1028 -1241 775 -1147 \nL 775 -588 \nQ 1028 -725 1275 -790 \nQ 1522 -856 1778 -856 \nQ 2344 -856 2625 -561 \nQ 2906 -266 2906 331 \nL 2906 616 \nQ 2728 306 2450 153 \nQ 2172 0 1784 0 \nQ 1141 0 747 490 \nQ 353 981 353 1791 \nQ 353 2603 747 3093 \nQ 1141 3584 1784 3584 \nQ 2172 3584 2450 3431 \nQ 2728 3278 2906 2969 \nL 2906 3500 \nL 3481 3500 \nL 3481 434 \nz\n\" transform=\"scale(0.015625)\"/>\n       <path id=\"DejaVuSans-72\" d=\"M 2631 2963 \nQ 2534 3019 2420 3045 \nQ 2306 3072 2169 3072 \nQ 1681 3072 1420 2755 \nQ 1159 2438 1159 1844 \nL 1159 0 \nL 581 0 \nL 581 3500 \nL 1159 3500 \nL 1159 2956 \nQ 1341 3275 1631 3429 \nQ 1922 3584 2338 3584 \nQ 2397 3584 2469 3576 \nQ 2541 3569 2628 3553 \nL 2631 2963 \nz\n\" transform=\"scale(0.015625)\"/>\n       <path id=\"DejaVuSans-61\" d=\"M 2194 1759 \nQ 1497 1759 1228 1600 \nQ 959 1441 959 1056 \nQ 959 750 1161 570 \nQ 1363 391 1709 391 \nQ 2188 391 2477 730 \nQ 2766 1069 2766 1631 \nL 2766 1759 \nL 2194 1759 \nz\nM 3341 1997 \nL 3341 0 \nL 2766 0 \nL 2766 531 \nQ 2569 213 2275 61 \nQ 1981 -91 1556 -91 \nQ 1019 -91 701 211 \nQ 384 513 384 1019 \nQ 384 1609 779 1909 \nQ 1175 2209 1959 2209 \nL 2766 2209 \nL 2766 2266 \nQ 2766 2663 2505 2880 \nQ 2244 3097 1772 3097 \nQ 1472 3097 1187 3025 \nQ 903 2953 641 2809 \nL 641 3341 \nQ 956 3463 1253 3523 \nQ 1550 3584 1831 3584 \nQ 2591 3584 2966 3190 \nQ 3341 2797 3341 1997 \nz\n\" transform=\"scale(0.015625)\"/>\n       <path id=\"DejaVuSans-64\" d=\"M 2906 2969 \nL 2906 4863 \nL 3481 4863 \nL 3481 0 \nL 2906 0 \nL 2906 525 \nQ 2725 213 2448 61 \nQ 2172 -91 1784 -91 \nQ 1150 -91 751 415 \nQ 353 922 353 1747 \nQ 353 2572 751 3078 \nQ 1150 3584 1784 3584 \nQ 2172 3584 2448 3432 \nQ 2725 3281 2906 2969 \nz\nM 947 1747 \nQ 947 1113 1208 752 \nQ 1469 391 1925 391 \nQ 2381 391 2643 752 \nQ 2906 1113 2906 1747 \nQ 2906 2381 2643 2742 \nQ 2381 3103 1925 3103 \nQ 1469 3103 1208 2742 \nQ 947 2381 947 1747 \nz\n\" transform=\"scale(0.015625)\"/>\n      </defs>\n      <use xlink:href=\"#DejaVuSans-78\"/>\n      <use xlink:href=\"#DejaVuSans-2e\" x=\"59.179688\"/>\n      <use xlink:href=\"#DejaVuSans-67\" x=\"90.966797\"/>\n      <use xlink:href=\"#DejaVuSans-72\" x=\"154.443359\"/>\n      <use xlink:href=\"#DejaVuSans-61\" x=\"195.556641\"/>\n      <use xlink:href=\"#DejaVuSans-64\" x=\"256.835938\"/>\n     </g>\n    </g>\n   </g>\n  </g>\n </g>\n <defs>\n  <clipPath id=\"pa7c39c2cfd\">\n   <rect x=\"52.160938\" y=\"7.2\" width=\"558\" height=\"138.6\"/>\n  </clipPath>\n </defs>\n</svg>\n",
      "text/plain": [
       "<Figure size 1000x250 with 1 Axes>"
      ]
     },
     "metadata": {},
     "output_type": "display_data"
    }
   ],
   "source": [
    "plot(x.detach().numpy(),\n",
    "    [y.detach().numpy(), x.grad.detach().numpy()],\n",
    "    'x',\n",
    "    'f(x)',\n",
    "    legend=['f(x)', 'x.grad'])"
   ]
  }
 ],
 "metadata": {
  "kernelspec": {
   "display_name": "Python 3.9.15 ('d2l')",
   "language": "python",
   "name": "python3"
  },
  "language_info": {
   "codemirror_mode": {
    "name": "ipython",
    "version": 3
   },
   "file_extension": ".py",
   "mimetype": "text/x-python",
   "name": "python",
   "nbconvert_exporter": "python",
   "pygments_lexer": "ipython3",
   "version": "3.9.15"
  },
  "orig_nbformat": 4,
  "vscode": {
   "interpreter": {
    "hash": "4b3bf90197031442d3e5cdadcedbd073921a699122adc4c7e0c76109ad3b9b17"
   }
  }
 },
 "nbformat": 4,
 "nbformat_minor": 2
}
