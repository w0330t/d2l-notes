{
 "cells": [
  {
   "cell_type": "code",
   "execution_count": 1,
   "metadata": {},
   "outputs": [],
   "source": [
    "import numpy as np\n",
    "import torch\n",
    "from torch.utils import data\n",
    "from d2l import torch as d2l\n",
    "\n",
    "from typing import Generator\n",
    "\n",
    "\n",
    "# 真实的权重\n",
    "true_w = torch.tensor([2, -3.4])\n",
    "# 真实的偏差\n",
    "true_b = 4.2\n",
    "# 通过真实的权重和偏差生成样本和标注\n",
    "features, labels = d2l.synthetic_data(true_w, true_b, 1000)"
   ]
  },
  {
   "cell_type": "code",
   "execution_count": 2,
   "metadata": {},
   "outputs": [
    {
     "name": "stdout",
     "output_type": "stream",
     "text": [
      "tensor([[ 0.7986,  0.4083],\n",
      "        [ 1.0535,  0.5692],\n",
      "        [ 1.4239,  0.0616],\n",
      "        [-0.6981, -0.0916],\n",
      "        [-0.1833,  0.1798],\n",
      "        [-0.0858, -0.4625],\n",
      "        [-0.9639, -0.3333],\n",
      "        [-0.8729, -0.3595],\n",
      "        [-0.0774, -0.8647],\n",
      "        [-0.4119,  0.1894]])\n",
      "tensor([[4.3770],\n",
      "        [4.3601],\n",
      "        [6.8245],\n",
      "        [3.1094],\n",
      "        [3.2355],\n",
      "        [5.5987],\n",
      "        [3.3936],\n",
      "        [3.6698],\n",
      "        [6.9922],\n",
      "        [2.7377]])\n"
     ]
    }
   ],
   "source": [
    "batch_size = 10\n",
    "dataset = data.TensorDataset(features, labels)\n",
    "# 生成每10个样本为一组的随机数据\n",
    "data_iter = data.DataLoader(dataset, batch_size, shuffle=True)\n",
    "\n",
    "\n",
    "for t_data, t_labels in data_iter:\n",
    "    print(t_data)\n",
    "    print(t_labels)\n",
    "    break"
   ]
  },
  {
   "cell_type": "markdown",
   "metadata": {},
   "source": [
    "使用框架预定层"
   ]
  },
  {
   "cell_type": "code",
   "execution_count": 3,
   "metadata": {},
   "outputs": [],
   "source": [
    "from torch import nn\n",
    "\n",
    "net = nn.Sequential(nn.Linear(2, 1))"
   ]
  },
  {
   "cell_type": "markdown",
   "metadata": {},
   "source": [
    "初始化模型参数"
   ]
  },
  {
   "cell_type": "code",
   "execution_count": 4,
   "metadata": {},
   "outputs": [
    {
     "data": {
      "text/plain": [
       "tensor([0.])"
      ]
     },
     "execution_count": 4,
     "metadata": {},
     "output_type": "execute_result"
    }
   ],
   "source": [
    "net[0].weight.data.normal_(0, 0.01)\n",
    "net[0].bias.data.fill_(0)"
   ]
  },
  {
   "cell_type": "markdown",
   "metadata": {},
   "source": [
    "均方误差使用的函数"
   ]
  },
  {
   "cell_type": "code",
   "execution_count": 5,
   "metadata": {},
   "outputs": [],
   "source": [
    "loss = nn.MSELoss()"
   ]
  },
  {
   "cell_type": "markdown",
   "metadata": {},
   "source": [
    "SGD实例"
   ]
  },
  {
   "cell_type": "code",
   "execution_count": 6,
   "metadata": {},
   "outputs": [],
   "source": [
    "trainer = torch.optim.SGD(net.parameters(), lr=0.03)"
   ]
  },
  {
   "cell_type": "markdown",
   "metadata": {},
   "source": [
    "开始整活"
   ]
  },
  {
   "cell_type": "code",
   "execution_count": 7,
   "metadata": {},
   "outputs": [
    {
     "name": "stdout",
     "output_type": "stream",
     "text": [
      "epoch 1, loss 0.000206\n",
      "epoch 2, loss 0.000098\n",
      "epoch 3, loss 0.000098\n"
     ]
    }
   ],
   "source": [
    "for epoch in range(3):\n",
    "    for X, y in data_iter:\n",
    "        l = loss(net(X), y)\n",
    "        trainer.zero_grad()\n",
    "        l.backward()\n",
    "        trainer.step()\n",
    "    l = loss(net(features), labels)\n",
    "    print(f'epoch {epoch + 1}, loss {l:f}')"
   ]
  },
  {
   "cell_type": "code",
   "execution_count": null,
   "metadata": {},
   "outputs": [],
   "source": []
  }
 ],
 "metadata": {
  "kernelspec": {
   "display_name": "Python 3.9.15 ('d2l')",
   "language": "python",
   "name": "python3"
  },
  "language_info": {
   "codemirror_mode": {
    "name": "ipython",
    "version": 3
   },
   "file_extension": ".py",
   "mimetype": "text/x-python",
   "name": "python",
   "nbconvert_exporter": "python",
   "pygments_lexer": "ipython3",
   "version": "3.9.15 (main, Nov 24 2022, 14:39:17) [MSC v.1916 64 bit (AMD64)]"
  },
  "orig_nbformat": 4,
  "vscode": {
   "interpreter": {
    "hash": "8bd58365125d1fb04f9da52a4f19f0e2a6de19e22e14f4703d248c3bab40a246"
   }
  }
 },
 "nbformat": 4,
 "nbformat_minor": 2
}
